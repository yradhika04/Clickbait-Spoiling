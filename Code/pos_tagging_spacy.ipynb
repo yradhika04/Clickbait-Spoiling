{
 "cells": [
  {
   "cell_type": "markdown",
   "id": "c47ad84a-67ed-40df-9146-363884bcc01b",
   "metadata": {},
   "source": [
    "install spacy \\\n",
    "https://spacy.io/usage\n",
    "\n",
    "install model in command line \\\n",
    "https://spacy.io/models"
   ]
  },
  {
   "cell_type": "code",
   "execution_count": null,
   "id": "aad3f021-4f8b-474f-ae8f-9c50e739e854",
   "metadata": {},
   "outputs": [],
   "source": [
    "import spacy"
   ]
  },
  {
   "cell_type": "code",
   "execution_count": 12,
   "id": "059e643c-8491-46bc-992f-d5dee027df49",
   "metadata": {},
   "outputs": [],
   "source": [
    "import en_core_web_sm\n",
    "\n",
    "# note: other spacy models exists for English. This is a small one.\n",
    "# https://spacy.io/models/en#en_core_web_sm"
   ]
  },
  {
   "attachments": {},
   "cell_type": "markdown",
   "id": "487ec7b3-c90c-403e-9487-de35d3f483be",
   "metadata": {},
   "source": [
    "use spacy POS tagger \\\n",
    "https://spacy.io/usage/linguistic-features/ \n",
    "\n",
    "the first tag is the simple UPOS part-of-speech tag https://universaldependencies.org/u/pos/ \\\n",
    "the second tag is the detailed part-of-speech tag\n",
    "\n",
    "Notes: \\\n",
    "    - the first tag may not be detailed enough (doesn't distinguish adjectives for example (e.g., superlative)) \\\n",
    "    - what are the labels of the second tag? (depends on model) https://spacy.io/models/en#en_core_web_sm"
   ]
  },
  {
   "cell_type": "code",
   "execution_count": 13,
   "id": "fb4509b0-5bcb-41dc-a628-47aab4b53e05",
   "metadata": {},
   "outputs": [
    {
     "name": "stdout",
     "output_type": "stream",
     "text": [
      "This PRON DT\n",
      "will AUX MD\n",
      "soon ADV RB\n",
      "be AUX VB\n",
      "America PROPN NNP\n",
      "'s PART POS\n",
      "biggest ADJ JJS\n",
      "economic ADJ JJ\n",
      "problem NOUN NN\n"
     ]
    }
   ],
   "source": [
    "nlp = spacy.load(\"en_core_web_sm\")\n",
    "doc = nlp(\"This will soon be America's biggest economic problem\")\n",
    "\n",
    "for token in doc:\n",
    "    print(token.text, token.pos_, token.tag_)"
   ]
  },
  {
   "cell_type": "code",
   "execution_count": 14,
   "id": "037930fb-3bf5-4247-9b04-54c496171abf",
   "metadata": {},
   "outputs": [
    {
     "data": {
      "text/plain": [
       "'adjective, superlative'"
      ]
     },
     "execution_count": 14,
     "metadata": {},
     "output_type": "execute_result"
    }
   ],
   "source": [
    "# show explanaition of a single spacy label\n",
    "spacy.explain(\"JJS\")"
   ]
  },
  {
   "cell_type": "code",
   "execution_count": null,
   "id": "83bb3ef4-b497-4e4d-aaba-080b30d5e4df",
   "metadata": {},
   "outputs": [],
   "source": [
    "#### Extracting info on tag-set 2 of model ####"
   ]
  },
  {
   "cell_type": "code",
   "execution_count": 17,
   "id": "6d8b574a-b4e7-4b8e-8816-d308a206bfb1",
   "metadata": {},
   "outputs": [],
   "source": [
    "tags_str = \"$, '', ,, -LRB-, -RRB-, ., :, ADD, AFX, CC, CD, DT, EX, FW, HYPH, IN, JJ, JJR, JJS, LS, MD, NFP, NN, NNP, NNPS, NNS, PDT, POS, PRP, PRP$, RB, RBR, RBS, RP, SYM, TO, UH, VB, VBD, VBG, VBN, VBP, VBZ, WDT, WP, WP$, WRB, XX, _SP, ``\""
   ]
  },
  {
   "cell_type": "code",
   "execution_count": 21,
   "id": "6181acdf-a6ab-4b3a-854f-865235ff8f6e",
   "metadata": {},
   "outputs": [
    {
     "name": "stdout",
     "output_type": "stream",
     "text": [
      "['$', \"''\", ',', '-LRB-', '-RRB-', '.', ':', 'ADD', 'AFX', 'CC', 'CD', 'DT', 'EX', 'FW', 'HYPH', 'IN', 'JJ', 'JJR', 'JJS', 'LS', 'MD', 'NFP', 'NN', 'NNP', 'NNPS', 'NNS', 'PDT', 'POS', 'PRP', 'PRP$', 'RB', 'RBR', 'RBS', 'RP', 'SYM', 'TO', 'UH', 'VB', 'VBD', 'VBG', 'VBN', 'VBP', 'VBZ', 'WDT', 'WP', 'WP$', 'WRB', 'XX', '_SP', '``']\n"
     ]
    }
   ],
   "source": [
    "tags = tags_str.split(\", \")\n",
    "tag_list = [tag for tag in tags]\n",
    "print(len(tag_list))"
   ]
  },
  {
   "cell_type": "code",
   "execution_count": 27,
   "id": "b156c08d-8a89-477a-a3c7-e15523a03558",
   "metadata": {},
   "outputs": [
    {
     "name": "stdout",
     "output_type": "stream",
     "text": [
      "All fine-grained POS tags:\n",
      "\n",
      "$ symbol, currency\n",
      "'' closing quotation mark\n",
      ", punctuation mark, comma\n",
      "-LRB- left round bracket\n",
      "-RRB- right round bracket\n",
      ". punctuation mark, sentence closer\n",
      ": punctuation mark, colon or ellipsis\n",
      "ADD email\n",
      "AFX affix\n",
      "CC conjunction, coordinating\n",
      "CD cardinal number\n",
      "DT determiner\n",
      "EX existential there\n",
      "FW foreign word\n",
      "HYPH punctuation mark, hyphen\n",
      "IN conjunction, subordinating or preposition\n",
      "JJ adjective (English), other noun-modifier (Chinese)\n",
      "JJR adjective, comparative\n",
      "JJS adjective, superlative\n",
      "LS list item marker\n",
      "MD verb, modal auxiliary\n",
      "NFP superfluous punctuation\n",
      "NN noun, singular or mass\n",
      "NNP noun, proper singular\n",
      "NNPS noun, proper plural\n",
      "NNS noun, plural\n",
      "PDT predeterminer\n",
      "POS possessive ending\n",
      "PRP pronoun, personal\n",
      "PRP$ pronoun, possessive\n",
      "RB adverb\n",
      "RBR adverb, comparative\n",
      "RBS adverb, superlative\n",
      "RP adverb, particle\n",
      "SYM symbol\n",
      "TO infinitival \"to\"\n",
      "UH interjection\n",
      "VB verb, base form\n",
      "VBD verb, past tense\n",
      "VBG verb, gerund or present participle\n",
      "VBN verb, past participle\n",
      "VBP verb, non-3rd person singular present\n",
      "VBZ verb, 3rd person singular present\n",
      "WDT wh-determiner\n",
      "WP wh-pronoun, personal\n",
      "WP$ wh-pronoun, possessive\n",
      "WRB wh-adverb\n",
      "XX unknown\n",
      "_SP whitespace\n",
      "`` opening quotation mark\n"
     ]
    }
   ],
   "source": [
    "# displaying the tags finally used for feature engineering and saving to file\n",
    "\n",
    "file = open('pos_tag_list.txt', 'w')\n",
    "\n",
    "tag_dict = {}\n",
    "for t2 in tag_list:\n",
    "    tag_dict[t2] = spacy.explain(t2)\n",
    "file.write(\"All fine-grained POS tags: \\n\")\n",
    "for t3, ex in tag_dict.items():\n",
    "   file.write(str(t3 + \" \" + ex + \"\\n\"))\n",
    "\n",
    "file.close()"
   ]
  }
 ],
 "metadata": {
  "kernelspec": {
   "display_name": "Python 3 (ipykernel)",
   "language": "python",
   "name": "python3"
  },
  "language_info": {
   "codemirror_mode": {
    "name": "ipython",
    "version": 3
   },
   "file_extension": ".py",
   "mimetype": "text/x-python",
   "name": "python",
   "nbconvert_exporter": "python",
   "pygments_lexer": "ipython3",
   "version": "3.10.4"
  }
 },
 "nbformat": 4,
 "nbformat_minor": 5
}
