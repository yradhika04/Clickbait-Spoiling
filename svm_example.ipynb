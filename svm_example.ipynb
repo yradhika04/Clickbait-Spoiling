{
 "cells": [
  {
   "cell_type": "code",
   "execution_count": 1,
   "metadata": {},
   "outputs": [],
   "source": [
    "from sklearn.datasets import make_classification\n",
    "from sklearn.model_selection import train_test_split\n",
    "\n",
    "from svm_classifier import SVMClassifier"
   ]
  },
  {
   "cell_type": "code",
   "execution_count": 2,
   "metadata": {},
   "outputs": [],
   "source": [
    "# create dataset with 3 classes and split\n",
    "X, y = make_classification(n_features=4, random_state=0, n_classes=3, n_informative=3, n_redundant=1)\n",
    "X_train, X_test, y_train, y_test = train_test_split(X, y, test_size=0.33, random_state=42)"
   ]
  },
  {
   "attachments": {},
   "cell_type": "markdown",
   "metadata": {},
   "source": [
    "#### Linear SVM"
   ]
  },
  {
   "cell_type": "code",
   "execution_count": 3,
   "metadata": {},
   "outputs": [
    {
     "name": "stdout",
     "output_type": "stream",
     "text": [
      "Running LinearSVC with C=1.0, hinge loss, l2 penalty, and dual=True.\n"
     ]
    }
   ],
   "source": [
    "svm_lin = SVMClassifier(C=1.0, linear=True, penalty=\"l2\", loss=\"hinge\", dual=True)\n",
    "svm_lin.get_description()"
   ]
  },
  {
   "cell_type": "code",
   "execution_count": 4,
   "metadata": {},
   "outputs": [
    {
     "name": "stdout",
     "output_type": "stream",
     "text": [
      "[0 1 0 2 1 0 1 1 1 1 0 2 0 1 2 2 1 2 1 0 2 1 2 2 0 0 2 2 2 0 2 1 0]\n"
     ]
    }
   ],
   "source": [
    "svm_lin.fit_clf(X_train, y_train)\n",
    "y_pred = svm_lin.get_prediction(X_test)\n",
    "print(y_pred)"
   ]
  },
  {
   "cell_type": "code",
   "execution_count": 7,
   "metadata": {},
   "outputs": [
    {
     "name": "stdout",
     "output_type": "stream",
     "text": [
      "accuracy score: 0.818\n",
      "balanced accuracy score: 0.842\n"
     ]
    }
   ],
   "source": [
    "print(\"accuracy score:\", round(svm_lin.get_acc(y_test, y_pred), 3))\n",
    "print(\"balanced accuracy score:\", round(svm_lin.get_acc(y_test, y_pred, balanced=True), 3))"
   ]
  },
  {
   "attachments": {},
   "cell_type": "markdown",
   "metadata": {},
   "source": [
    "#### Non-linear SVM"
   ]
  },
  {
   "cell_type": "code",
   "execution_count": 8,
   "metadata": {},
   "outputs": [
    {
     "name": "stdout",
     "output_type": "stream",
     "text": [
      "Running SVC with rbf kernel, C=1.0 and gamma=scale.\n"
     ]
    }
   ],
   "source": [
    "svm_nonlin = SVMClassifier(C=1.0, linear=False, gamma=\"scale\")\n",
    "svm_nonlin.get_description()"
   ]
  },
  {
   "cell_type": "code",
   "execution_count": 9,
   "metadata": {},
   "outputs": [
    {
     "name": "stdout",
     "output_type": "stream",
     "text": [
      "[0 1 0 2 1 0 1 1 2 1 0 2 0 1 2 2 1 2 1 0 2 1 2 2 0 0 2 2 2 0 2 1 0]\n"
     ]
    }
   ],
   "source": [
    "svm_nonlin.fit_clf(X_train,y_train)\n",
    "y_pred2 = svm_nonlin.get_prediction(X_test)\n",
    "print(y_pred2)"
   ]
  },
  {
   "cell_type": "code",
   "execution_count": 10,
   "metadata": {},
   "outputs": [
    {
     "name": "stdout",
     "output_type": "stream",
     "text": [
      "accuracy score: 0.848\n",
      "balanced accuracy score: 0.87\n"
     ]
    }
   ],
   "source": [
    "print(\"accuracy score:\", round(svm_nonlin.get_acc(y_test, y_pred2), 3))\n",
    "print(\"balanced accuracy score:\", round(svm_nonlin.get_acc(y_test, y_pred2, balanced=True), 3))"
   ]
  }
 ],
 "metadata": {
  "kernelspec": {
   "display_name": "anlp22final",
   "language": "python",
   "name": "python3"
  },
  "language_info": {
   "codemirror_mode": {
    "name": "ipython",
    "version": 3
   },
   "file_extension": ".py",
   "mimetype": "text/x-python",
   "name": "python",
   "nbconvert_exporter": "python",
   "pygments_lexer": "ipython3",
   "version": "3.9.16"
  },
  "orig_nbformat": 4
 },
 "nbformat": 4,
 "nbformat_minor": 2
}
